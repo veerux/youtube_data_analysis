{
 "cells": [
  {
   "attachments": {},
   "cell_type": "markdown",
   "metadata": {},
   "source": [
    "# Exploratory data analysis on Youtube search and watch history"
   ]
  },
  {
   "attachments": {},
   "cell_type": "markdown",
   "metadata": {},
   "source": [
    "Veera Määttänen 5.8.2023"
   ]
  },
  {
   "attachments": {},
   "cell_type": "markdown",
   "metadata": {},
   "source": [
    "The idea behind this project is to gain more knowledge on data analysis and using Python libraries and packages such as numpy, pandas, matplotlib and seaborn. "
   ]
  },
  {
   "attachments": {},
   "cell_type": "markdown",
   "metadata": {},
   "source": [
    "- What do I want to obtain from the data? \n",
    "- What's the problem or situation that I am trying to solve or understand?\n",
    "- Other questions?"
   ]
  },
  {
   "attachments": {},
   "cell_type": "markdown",
   "metadata": {},
   "source": []
  },
  {
   "attachments": {},
   "cell_type": "markdown",
   "metadata": {},
   "source": [
    "#### 1. From html to csv files"
   ]
  },
  {
   "cell_type": "code",
   "execution_count": 2,
   "metadata": {},
   "outputs": [],
   "source": [
    "import requests\n",
    "from bs4 import BeautifulSoup\n",
    "import pandas as pd\n",
    "\n",
    "import numpy as np\n",
    "\n",
    "from datetime import datetime"
   ]
  },
  {
   "cell_type": "code",
   "execution_count": 19,
   "metadata": {},
   "outputs": [],
   "source": [
    "with open(\"watch_history_1.html\", encoding='utf8') as fp:\n",
    "    soup = BeautifulSoup(fp, 'html.parser')"
   ]
  },
  {
   "cell_type": "code",
   "execution_count": 23,
   "metadata": {},
   "outputs": [],
   "source": [
    "articles = soup.find_all('div', class_='content-cell mdl-cell mdl-cell--6-col mdl-typography--body-1')"
   ]
  },
  {
   "attachments": {},
   "cell_type": "markdown",
   "metadata": {},
   "source": [
    "I had to do some error handling here because the contents of the article were different for hidden and deleted videos. \n",
    "\n",
    "- First I tried to implement try except but it didn't work the way I wanted.\n",
    "- I noticed that the lenght of the contents was 6 for all the videos that are still up and decided to use that as a condition. \n",
    "- There were two types of missing datas, deleted videos and hidden/private videos. Deleted videos didn't have any information about the channel or the video, but i wanted to keep them because they did have the date data and i am also interested in that. \n",
    "- Some of the hidden/private videos had working links and i was able to watch the videos, but i decided it would make more sense to just label these as hidden or private, and also suitable for this situation."
   ]
  },
  {
   "cell_type": "code",
   "execution_count": 24,
   "metadata": {},
   "outputs": [],
   "source": [
    "watch_history = []\n",
    "for article in articles:\n",
    "    if len(article.contents) == 6:\n",
    "        video = article.find('a')\n",
    "        title = video.string\n",
    "        channel = title.find_next('a').string\n",
    "        date = article.contents[-1]\n",
    "        watch_history.append([title, channel, date])\n",
    "    elif len(article.contents) == 3: # Deleted videos\n",
    "        title = article.find_next(string=True)\n",
    "        channel = float('nan')\n",
    "        date = article.contents[-1]\n",
    "        watch_history.append([title, channel, date])\n",
    "    else: # Hidden or private videos\n",
    "        title = 'Private/hidden video'\n",
    "        channel = float('nan')\n",
    "        date = article.contents[-1]\n",
    "        watch_history.append([title, channel, date])"
   ]
  },
  {
   "cell_type": "code",
   "execution_count": 13,
   "metadata": {},
   "outputs": [
    {
     "ename": "NameError",
     "evalue": "name 'watch_history' is not defined",
     "output_type": "error",
     "traceback": [
      "\u001b[1;31m---------------------------------------------------------------------------\u001b[0m",
      "\u001b[1;31mNameError\u001b[0m                                 Traceback (most recent call last)",
      "\u001b[1;32m<ipython-input-13-ebc253572f2e>\u001b[0m in \u001b[0;36m<module>\u001b[1;34m\u001b[0m\n\u001b[1;32m----> 1\u001b[1;33m \u001b[0mdf\u001b[0m \u001b[1;33m=\u001b[0m \u001b[0mpd\u001b[0m\u001b[1;33m.\u001b[0m\u001b[0mDataFrame\u001b[0m\u001b[1;33m(\u001b[0m\u001b[0mwatch_history\u001b[0m\u001b[1;33m,\u001b[0m \u001b[0mcolumns\u001b[0m\u001b[1;33m=\u001b[0m\u001b[1;33m[\u001b[0m\u001b[1;34m'title'\u001b[0m\u001b[1;33m,\u001b[0m\u001b[1;34m'channel'\u001b[0m\u001b[1;33m,\u001b[0m\u001b[1;34m'date'\u001b[0m\u001b[1;33m]\u001b[0m\u001b[1;33m)\u001b[0m\u001b[1;33m\u001b[0m\u001b[1;33m\u001b[0m\u001b[0m\n\u001b[0m\u001b[0;32m      2\u001b[0m \u001b[0mdf\u001b[0m\u001b[1;33m.\u001b[0m\u001b[0mto_csv\u001b[0m\u001b[1;33m(\u001b[0m\u001b[1;34m'watch_history.csv'\u001b[0m\u001b[1;33m)\u001b[0m\u001b[1;33m\u001b[0m\u001b[1;33m\u001b[0m\u001b[0m\n",
      "\u001b[1;31mNameError\u001b[0m: name 'watch_history' is not defined"
     ]
    }
   ],
   "source": [
    "df = pd.DataFrame(watch_history, columns=['title','channel','date'])\n",
    "df.to_csv('watch_history.csv')"
   ]
  },
  {
   "cell_type": "markdown",
   "metadata": {},
   "source": [
    "Going to open the watch_history.csv file in another dataframe so I won't have to run the BeautifulSoup each time (takes 30min lol)"
   ]
  },
  {
   "cell_type": "code",
   "execution_count": 3,
   "metadata": {},
   "outputs": [],
   "source": [
    "df0 = pd.read_csv('watch_history.csv')"
   ]
  },
  {
   "attachments": {},
   "cell_type": "markdown",
   "metadata": {},
   "source": [
    "#### 2. "
   ]
  },
  {
   "cell_type": "code",
   "execution_count": 4,
   "metadata": {},
   "outputs": [
    {
     "data": {
      "text/html": [
       "<div>\n",
       "<style scoped>\n",
       "    .dataframe tbody tr th:only-of-type {\n",
       "        vertical-align: middle;\n",
       "    }\n",
       "\n",
       "    .dataframe tbody tr th {\n",
       "        vertical-align: top;\n",
       "    }\n",
       "\n",
       "    .dataframe thead th {\n",
       "        text-align: right;\n",
       "    }\n",
       "</style>\n",
       "<table border=\"1\" class=\"dataframe\">\n",
       "  <thead>\n",
       "    <tr style=\"text-align: right;\">\n",
       "      <th></th>\n",
       "      <th>index</th>\n",
       "      <th>title</th>\n",
       "      <th>channel</th>\n",
       "      <th>date</th>\n",
       "    </tr>\n",
       "  </thead>\n",
       "  <tbody>\n",
       "    <tr>\n",
       "      <th>0</th>\n",
       "      <td>0</td>\n",
       "      <td>6. tammikuuta 2022</td>\n",
       "      <td>Jyrki Hakkarainen</td>\n",
       "      <td>1.6.2023 klo 22.10.05 EEST</td>\n",
       "    </tr>\n",
       "    <tr>\n",
       "      <th>1</th>\n",
       "      <td>1</td>\n",
       "      <td>DATA ANALYST PORTFOLIO | 10 PROJECT IDEAS</td>\n",
       "      <td>Data With Mo</td>\n",
       "      <td>1.6.2023 klo 21.46.17 EEST</td>\n",
       "    </tr>\n",
       "    <tr>\n",
       "      <th>2</th>\n",
       "      <td>2</td>\n",
       "      <td>Q&amp;A with a person who does not have an interna...</td>\n",
       "      <td>PA Struggles</td>\n",
       "      <td>1.6.2023 klo 18.49.48 EEST</td>\n",
       "    </tr>\n",
       "    <tr>\n",
       "      <th>3</th>\n",
       "      <td>3</td>\n",
       "      <td>Four Common MISTAKES To AVOID If You Want To L...</td>\n",
       "      <td>Doctor Youn</td>\n",
       "      <td>1.6.2023 klo 18.49.44 EEST</td>\n",
       "    </tr>\n",
       "    <tr>\n",
       "      <th>4</th>\n",
       "      <td>4</td>\n",
       "      <td>How Rainbolt Identifies Countries #geoguessr #...</td>\n",
       "      <td>Profoundly Pointless</td>\n",
       "      <td>1.6.2023 klo 17.23.28 EEST</td>\n",
       "    </tr>\n",
       "  </tbody>\n",
       "</table>\n",
       "</div>"
      ],
      "text/plain": [
       "   index                                              title  \\\n",
       "0      0                                 6. tammikuuta 2022   \n",
       "1      1          DATA ANALYST PORTFOLIO | 10 PROJECT IDEAS   \n",
       "2      2  Q&A with a person who does not have an interna...   \n",
       "3      3  Four Common MISTAKES To AVOID If You Want To L...   \n",
       "4      4  How Rainbolt Identifies Countries #geoguessr #...   \n",
       "\n",
       "                channel                        date  \n",
       "0     Jyrki Hakkarainen  1.6.2023 klo 22.10.05 EEST  \n",
       "1          Data With Mo  1.6.2023 klo 21.46.17 EEST  \n",
       "2          PA Struggles  1.6.2023 klo 18.49.48 EEST  \n",
       "3           Doctor Youn  1.6.2023 klo 18.49.44 EEST  \n",
       "4  Profoundly Pointless  1.6.2023 klo 17.23.28 EEST  "
      ]
     },
     "execution_count": 4,
     "metadata": {},
     "output_type": "execute_result"
    }
   ],
   "source": [
    "\n",
    "df0.head()"
   ]
  },
  {
   "cell_type": "code",
   "execution_count": 5,
   "metadata": {},
   "outputs": [
    {
     "data": {
      "text/plain": [
       "(39441, 4)"
      ]
     },
     "execution_count": 5,
     "metadata": {},
     "output_type": "execute_result"
    }
   ],
   "source": [
    "df0.shape"
   ]
  },
  {
   "cell_type": "code",
   "execution_count": 6,
   "metadata": {},
   "outputs": [
    {
     "data": {
      "text/html": [
       "<div>\n",
       "<style scoped>\n",
       "    .dataframe tbody tr th:only-of-type {\n",
       "        vertical-align: middle;\n",
       "    }\n",
       "\n",
       "    .dataframe tbody tr th {\n",
       "        vertical-align: top;\n",
       "    }\n",
       "\n",
       "    .dataframe thead th {\n",
       "        text-align: right;\n",
       "    }\n",
       "</style>\n",
       "<table border=\"1\" class=\"dataframe\">\n",
       "  <thead>\n",
       "    <tr style=\"text-align: right;\">\n",
       "      <th></th>\n",
       "      <th>index</th>\n",
       "    </tr>\n",
       "  </thead>\n",
       "  <tbody>\n",
       "    <tr>\n",
       "      <th>count</th>\n",
       "      <td>39441.00000</td>\n",
       "    </tr>\n",
       "    <tr>\n",
       "      <th>mean</th>\n",
       "      <td>19720.00000</td>\n",
       "    </tr>\n",
       "    <tr>\n",
       "      <th>std</th>\n",
       "      <td>11385.78032</td>\n",
       "    </tr>\n",
       "    <tr>\n",
       "      <th>min</th>\n",
       "      <td>0.00000</td>\n",
       "    </tr>\n",
       "    <tr>\n",
       "      <th>25%</th>\n",
       "      <td>9860.00000</td>\n",
       "    </tr>\n",
       "    <tr>\n",
       "      <th>50%</th>\n",
       "      <td>19720.00000</td>\n",
       "    </tr>\n",
       "    <tr>\n",
       "      <th>75%</th>\n",
       "      <td>29580.00000</td>\n",
       "    </tr>\n",
       "    <tr>\n",
       "      <th>max</th>\n",
       "      <td>39440.00000</td>\n",
       "    </tr>\n",
       "  </tbody>\n",
       "</table>\n",
       "</div>"
      ],
      "text/plain": [
       "             index\n",
       "count  39441.00000\n",
       "mean   19720.00000\n",
       "std    11385.78032\n",
       "min        0.00000\n",
       "25%     9860.00000\n",
       "50%    19720.00000\n",
       "75%    29580.00000\n",
       "max    39440.00000"
      ]
     },
     "execution_count": 6,
     "metadata": {},
     "output_type": "execute_result"
    }
   ],
   "source": [
    "df0.describe()"
   ]
  },
  {
   "attachments": {},
   "cell_type": "markdown",
   "metadata": {},
   "source": [
    "My most watched channel is Pewdiepie and i have watched 1596 of his videos. This doesn't surprise me because I have watched him for a long time and absolutely love his content. "
   ]
  },
  {
   "cell_type": "code",
   "execution_count": 7,
   "metadata": {},
   "outputs": [
    {
     "name": "stdout",
     "output_type": "stream",
     "text": [
      "<class 'pandas.core.frame.DataFrame'>\n",
      "RangeIndex: 39441 entries, 0 to 39440\n",
      "Data columns (total 4 columns):\n",
      " #   Column   Non-Null Count  Dtype \n",
      "---  ------   --------------  ----- \n",
      " 0   index    39441 non-null  int64 \n",
      " 1   title    39441 non-null  object\n",
      " 2   channel  34126 non-null  object\n",
      " 3   date     39441 non-null  object\n",
      "dtypes: int64(1), object(3)\n",
      "memory usage: 1.2+ MB\n"
     ]
    }
   ],
   "source": [
    "df0.info()"
   ]
  },
  {
   "attachments": {},
   "cell_type": "markdown",
   "metadata": {},
   "source": [
    "Next I want to split the date into months and years and also times. "
   ]
  },
  {
   "cell_type": "code",
   "execution_count": 8,
   "metadata": {},
   "outputs": [
    {
     "data": {
      "text/plain": [
       "'1.6.2023 klo 22.10.05 EEST'"
      ]
     },
     "execution_count": 8,
     "metadata": {},
     "output_type": "execute_result"
    }
   ],
   "source": [
    "df0['date'][0]"
   ]
  },
  {
   "cell_type": "code",
   "execution_count": 9,
   "metadata": {},
   "outputs": [
    {
     "name": "stdout",
     "output_type": "stream",
     "text": [
      "1.6.2023 klo 22.10.05 EEST\n",
      "2023-06-01 22:10:05\n"
     ]
    }
   ],
   "source": [
    "# format pattern: %d.%m.%Y klo %H.%M.%S EEST\n",
    "\n",
    "format = \"%d.%m.%Y klo %H.%M.%S EEST\"\n",
    "test_date = df0['date'][0]\n",
    "test = datetime.strptime(test_date, format)\n",
    "print(test_date)\n",
    "print(test)\n"
   ]
  },
  {
   "cell_type": "code",
   "execution_count": 22,
   "metadata": {},
   "outputs": [
    {
     "data": {
      "text/html": [
       "<div>\n",
       "<style scoped>\n",
       "    .dataframe tbody tr th:only-of-type {\n",
       "        vertical-align: middle;\n",
       "    }\n",
       "\n",
       "    .dataframe tbody tr th {\n",
       "        vertical-align: top;\n",
       "    }\n",
       "\n",
       "    .dataframe thead th {\n",
       "        text-align: right;\n",
       "    }\n",
       "</style>\n",
       "<table border=\"1\" class=\"dataframe\">\n",
       "  <thead>\n",
       "    <tr style=\"text-align: right;\">\n",
       "      <th></th>\n",
       "      <th>index</th>\n",
       "      <th>title</th>\n",
       "      <th>channel</th>\n",
       "      <th>date</th>\n",
       "    </tr>\n",
       "  </thead>\n",
       "  <tbody>\n",
       "    <tr>\n",
       "      <th>0</th>\n",
       "      <td>0</td>\n",
       "      <td>6. tammikuuta 2022</td>\n",
       "      <td>Jyrki Hakkarainen</td>\n",
       "      <td>2023-06-01 22:10:05</td>\n",
       "    </tr>\n",
       "    <tr>\n",
       "      <th>1</th>\n",
       "      <td>1</td>\n",
       "      <td>DATA ANALYST PORTFOLIO | 10 PROJECT IDEAS</td>\n",
       "      <td>Data With Mo</td>\n",
       "      <td>2023-06-01 21:46:17</td>\n",
       "    </tr>\n",
       "    <tr>\n",
       "      <th>2</th>\n",
       "      <td>2</td>\n",
       "      <td>Q&amp;A with a person who does not have an interna...</td>\n",
       "      <td>PA Struggles</td>\n",
       "      <td>2023-06-01 18:49:48</td>\n",
       "    </tr>\n",
       "    <tr>\n",
       "      <th>3</th>\n",
       "      <td>3</td>\n",
       "      <td>Four Common MISTAKES To AVOID If You Want To L...</td>\n",
       "      <td>Doctor Youn</td>\n",
       "      <td>2023-06-01 18:49:44</td>\n",
       "    </tr>\n",
       "    <tr>\n",
       "      <th>4</th>\n",
       "      <td>4</td>\n",
       "      <td>How Rainbolt Identifies Countries #geoguessr #...</td>\n",
       "      <td>Profoundly Pointless</td>\n",
       "      <td>2023-06-01 17:23:28</td>\n",
       "    </tr>\n",
       "  </tbody>\n",
       "</table>\n",
       "</div>"
      ],
      "text/plain": [
       "   index                                              title  \\\n",
       "0      0                                 6. tammikuuta 2022   \n",
       "1      1          DATA ANALYST PORTFOLIO | 10 PROJECT IDEAS   \n",
       "2      2  Q&A with a person who does not have an interna...   \n",
       "3      3  Four Common MISTAKES To AVOID If You Want To L...   \n",
       "4      4  How Rainbolt Identifies Countries #geoguessr #...   \n",
       "\n",
       "                channel                 date  \n",
       "0     Jyrki Hakkarainen  2023-06-01 22:10:05  \n",
       "1          Data With Mo  2023-06-01 21:46:17  \n",
       "2          PA Struggles  2023-06-01 18:49:48  \n",
       "3           Doctor Youn  2023-06-01 18:49:44  \n",
       "4  Profoundly Pointless  2023-06-01 17:23:28  "
      ]
     },
     "execution_count": 22,
     "metadata": {},
     "output_type": "execute_result"
    }
   ],
   "source": [
    "df0['date'] = pd.to_datetime(df0['date'], format='%d.%m.%Y klo %H.%M.%S EEST')\n",
    "df0['date'] = df0['date'].dt.strftime('%Y-%m-%d %H:%M:%S')\n",
    "df0.head()"
   ]
  },
  {
   "cell_type": "markdown",
   "metadata": {
    "tags": []
   },
   "source": [
    "I think it would be interesting to see when i watch most and least videos. \n",
    "\n",
    "I want to add more columns based on the date, such as month, year, day and hour. \n",
    "This will enhance my ability to analyze the data and I will be able to use more methods and do comparisons. \n",
    "\n",
    "Let's add more columns to the dataframe."
   ]
  },
  {
   "cell_type": "code",
   "execution_count": null,
   "metadata": {},
   "outputs": [],
   "source": []
  }
 ],
 "metadata": {
  "kernelspec": {
   "display_name": "Python 3",
   "language": "python",
   "name": "python3"
  },
  "language_info": {
   "codemirror_mode": {
    "name": "ipython",
    "version": 3
   },
   "file_extension": ".py",
   "mimetype": "text/x-python",
   "name": "python",
   "nbconvert_exporter": "python",
   "pygments_lexer": "ipython3",
   "version": "3.7.6"
  },
  "orig_nbformat": 4
 },
 "nbformat": 4,
 "nbformat_minor": 2
}
