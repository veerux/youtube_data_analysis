{
 "cells": [
  {
   "attachments": {},
   "cell_type": "markdown",
   "metadata": {},
   "source": [
    "# Exploratory data analysis on Youtube search and watch history"
   ]
  },
  {
   "attachments": {},
   "cell_type": "markdown",
   "metadata": {},
   "source": [
    "Veera Määttänen 5.8.2023"
   ]
  },
  {
   "attachments": {},
   "cell_type": "markdown",
   "metadata": {},
   "source": [
    "The idea behind this project is to gain more knowledge on data analysis and using Python libraries and packages such as numpy, pandas, matplotlib and seaborn. "
   ]
  },
  {
   "attachments": {},
   "cell_type": "markdown",
   "metadata": {},
   "source": [
    "- What do I want to obtain from the data? \n",
    "- What's the problem or situation that I am trying to solve or understand?\n",
    "- Other questions?"
   ]
  },
  {
   "attachments": {},
   "cell_type": "markdown",
   "metadata": {},
   "source": []
  },
  {
   "attachments": {},
   "cell_type": "markdown",
   "metadata": {},
   "source": [
    "#### 1. From html to csv files"
   ]
  },
  {
   "cell_type": "code",
   "execution_count": 39,
   "metadata": {},
   "outputs": [],
   "source": [
    "import requests\n",
    "from bs4 import BeautifulSoup\n",
    "import pandas as pd"
   ]
  },
  {
   "cell_type": "code",
   "execution_count": 14,
   "metadata": {},
   "outputs": [],
   "source": [
    "with open(\"watch_history_1.html\", encoding='utf8') as fp:\n",
    "    soup = BeautifulSoup(fp, 'html.parser')"
   ]
  },
  {
   "cell_type": "code",
   "execution_count": 67,
   "metadata": {},
   "outputs": [
    {
     "data": {
      "text/plain": [
       "[<a href=\"https://www.youtube.com/watch?v=X19vITdE8JY\">MILEY CYRUS  \" 7 things \" make up inspired tutorial</a>,\n",
       " '\\xa0katsottiin',\n",
       " <br/>,\n",
       " <a href=\"https://www.youtube.com/channel/UCUmC122H07lU5BWK7XZimhg\">Panacea81 - Lauren Luke</a>,\n",
       " <br/>,\n",
       " '7.7.2011 klo 22.44.25 EEST']"
      ]
     },
     "execution_count": 67,
     "metadata": {},
     "output_type": "execute_result"
    }
   ],
   "source": [
    "articles = soup.find_all('div', class_='content-cell mdl-cell mdl-cell--6-col mdl-typography--body-1')\n",
    "article.contents"
   ]
  },
  {
   "attachments": {},
   "cell_type": "markdown",
   "metadata": {},
   "source": [
    "I had to do some error handling here because the contents of the article were different for hidden and deleted videos. \n",
    "\n",
    "- First I tried to implement try except but it didn't work the way I wanted.\n",
    "- I noticed that the lenght of the contents was 6 for all the videos that are still up and decided to use that as a condition. \n",
    "- There were two types of missing datas, deleted videos and hidden/private videos. Deleted videos didn't have any information about the channel or the video, but i wanted to keep them because they did have the date data and i am also interested in that. \n",
    "- Some of the hidden/private videos had working links and i was able to watch the videos, but i decided it would make more sense to just label these as hidden or private, and also suitable for this situation."
   ]
  },
  {
   "cell_type": "code",
   "execution_count": 87,
   "metadata": {},
   "outputs": [],
   "source": [
    "watch_history = []\n",
    "for article in articles:\n",
    "    if len(article.contents) == 6:\n",
    "        video = article.find('a')\n",
    "        title = video.string\n",
    "        channel = title.find_next('a').string\n",
    "        date = article.contents[-1]\n",
    "        watch_history.append([title, channel, date])\n",
    "    elif len(article.contents) == 3: # Deleted videos\n",
    "        title = article.find_next(string=True)\n",
    "        channel = float('nan')\n",
    "        date = article.contents[-1]\n",
    "        watch_history.append([title, channel, date])\n",
    "    else: # Hidden or private videos\n",
    "        title = 'Private/hidden video'\n",
    "        channel = float('nan')\n",
    "        date = article.contents[-1]\n",
    "        watch_history.append([title, channel, date])"
   ]
  },
  {
   "cell_type": "code",
   "execution_count": 88,
   "metadata": {},
   "outputs": [],
   "source": [
    "df = pd.DataFrame(watch_history, columns=['title','channel','date'])\n",
    "df.to_csv('watch_history.csv')"
   ]
  },
  {
   "attachments": {},
   "cell_type": "markdown",
   "metadata": {},
   "source": [
    "#### 2. "
   ]
  },
  {
   "cell_type": "code",
   "execution_count": 89,
   "metadata": {},
   "outputs": [],
   "source": [
    "import numpy as np\n"
   ]
  },
  {
   "cell_type": "code",
   "execution_count": 90,
   "metadata": {},
   "outputs": [
    {
     "data": {
      "text/html": [
       "<div>\n",
       "<style scoped>\n",
       "    .dataframe tbody tr th:only-of-type {\n",
       "        vertical-align: middle;\n",
       "    }\n",
       "\n",
       "    .dataframe tbody tr th {\n",
       "        vertical-align: top;\n",
       "    }\n",
       "\n",
       "    .dataframe thead th {\n",
       "        text-align: right;\n",
       "    }\n",
       "</style>\n",
       "<table border=\"1\" class=\"dataframe\">\n",
       "  <thead>\n",
       "    <tr style=\"text-align: right;\">\n",
       "      <th></th>\n",
       "      <th>title</th>\n",
       "      <th>channel</th>\n",
       "      <th>date</th>\n",
       "    </tr>\n",
       "  </thead>\n",
       "  <tbody>\n",
       "    <tr>\n",
       "      <th>0</th>\n",
       "      <td>6. tammikuuta 2022</td>\n",
       "      <td>Jyrki Hakkarainen</td>\n",
       "      <td>1.6.2023 klo 22.10.05 EEST</td>\n",
       "    </tr>\n",
       "    <tr>\n",
       "      <th>1</th>\n",
       "      <td>DATA ANALYST PORTFOLIO | 10 PROJECT IDEAS</td>\n",
       "      <td>Data With Mo</td>\n",
       "      <td>1.6.2023 klo 21.46.17 EEST</td>\n",
       "    </tr>\n",
       "    <tr>\n",
       "      <th>2</th>\n",
       "      <td>Q&amp;A with a person who does not have an interna...</td>\n",
       "      <td>PA Struggles</td>\n",
       "      <td>1.6.2023 klo 18.49.48 EEST</td>\n",
       "    </tr>\n",
       "    <tr>\n",
       "      <th>3</th>\n",
       "      <td>Four Common MISTAKES To AVOID If You Want To L...</td>\n",
       "      <td>Doctor Youn</td>\n",
       "      <td>1.6.2023 klo 18.49.44 EEST</td>\n",
       "    </tr>\n",
       "    <tr>\n",
       "      <th>4</th>\n",
       "      <td>How Rainbolt Identifies Countries #geoguessr #...</td>\n",
       "      <td>Profoundly Pointless</td>\n",
       "      <td>1.6.2023 klo 17.23.28 EEST</td>\n",
       "    </tr>\n",
       "  </tbody>\n",
       "</table>\n",
       "</div>"
      ],
      "text/plain": [
       "                                               title               channel  \\\n",
       "0                                 6. tammikuuta 2022     Jyrki Hakkarainen   \n",
       "1          DATA ANALYST PORTFOLIO | 10 PROJECT IDEAS          Data With Mo   \n",
       "2  Q&A with a person who does not have an interna...          PA Struggles   \n",
       "3  Four Common MISTAKES To AVOID If You Want To L...           Doctor Youn   \n",
       "4  How Rainbolt Identifies Countries #geoguessr #...  Profoundly Pointless   \n",
       "\n",
       "                         date  \n",
       "0  1.6.2023 klo 22.10.05 EEST  \n",
       "1  1.6.2023 klo 21.46.17 EEST  \n",
       "2  1.6.2023 klo 18.49.48 EEST  \n",
       "3  1.6.2023 klo 18.49.44 EEST  \n",
       "4  1.6.2023 klo 17.23.28 EEST  "
      ]
     },
     "execution_count": 90,
     "metadata": {},
     "output_type": "execute_result"
    }
   ],
   "source": [
    "df.head()"
   ]
  },
  {
   "cell_type": "code",
   "execution_count": 92,
   "metadata": {},
   "outputs": [
    {
     "data": {
      "text/plain": [
       "(39445, 3)"
      ]
     },
     "execution_count": 92,
     "metadata": {},
     "output_type": "execute_result"
    }
   ],
   "source": [
    "df.shape"
   ]
  },
  {
   "cell_type": "code",
   "execution_count": 93,
   "metadata": {},
   "outputs": [
    {
     "data": {
      "text/html": [
       "<div>\n",
       "<style scoped>\n",
       "    .dataframe tbody tr th:only-of-type {\n",
       "        vertical-align: middle;\n",
       "    }\n",
       "\n",
       "    .dataframe tbody tr th {\n",
       "        vertical-align: top;\n",
       "    }\n",
       "\n",
       "    .dataframe thead th {\n",
       "        text-align: right;\n",
       "    }\n",
       "</style>\n",
       "<table border=\"1\" class=\"dataframe\">\n",
       "  <thead>\n",
       "    <tr style=\"text-align: right;\">\n",
       "      <th></th>\n",
       "      <th>title</th>\n",
       "      <th>channel</th>\n",
       "      <th>date</th>\n",
       "    </tr>\n",
       "  </thead>\n",
       "  <tbody>\n",
       "    <tr>\n",
       "      <th>count</th>\n",
       "      <td>39445</td>\n",
       "      <td>34130</td>\n",
       "      <td>39445</td>\n",
       "    </tr>\n",
       "    <tr>\n",
       "      <th>unique</th>\n",
       "      <td>29747</td>\n",
       "      <td>11292</td>\n",
       "      <td>39431</td>\n",
       "    </tr>\n",
       "    <tr>\n",
       "      <th>top</th>\n",
       "      <td>Private/hidden video</td>\n",
       "      <td>PewDiePie</td>\n",
       "      <td>19.12.2021 klo 0.34.29 EEST</td>\n",
       "    </tr>\n",
       "    <tr>\n",
       "      <th>freq</th>\n",
       "      <td>4174</td>\n",
       "      <td>1596</td>\n",
       "      <td>2</td>\n",
       "    </tr>\n",
       "  </tbody>\n",
       "</table>\n",
       "</div>"
      ],
      "text/plain": [
       "                       title    channel                         date\n",
       "count                  39445      34130                        39445\n",
       "unique                 29747      11292                        39431\n",
       "top     Private/hidden video  PewDiePie  19.12.2021 klo 0.34.29 EEST\n",
       "freq                    4174       1596                            2"
      ]
     },
     "execution_count": 93,
     "metadata": {},
     "output_type": "execute_result"
    }
   ],
   "source": [
    "df.describe()"
   ]
  },
  {
   "attachments": {},
   "cell_type": "markdown",
   "metadata": {},
   "source": [
    "My most watched channel is Pewdiepie and i have watched 1596 of his videos. This doesn't surprise me because I have watched him for a long time and absolutely love his content. "
   ]
  },
  {
   "cell_type": "code",
   "execution_count": 94,
   "metadata": {},
   "outputs": [
    {
     "name": "stdout",
     "output_type": "stream",
     "text": [
      "<class 'pandas.core.frame.DataFrame'>\n",
      "RangeIndex: 39445 entries, 0 to 39444\n",
      "Data columns (total 3 columns):\n",
      " #   Column   Non-Null Count  Dtype \n",
      "---  ------   --------------  ----- \n",
      " 0   title    39445 non-null  object\n",
      " 1   channel  34130 non-null  object\n",
      " 2   date     39445 non-null  object\n",
      "dtypes: object(3)\n",
      "memory usage: 924.6+ KB\n"
     ]
    }
   ],
   "source": [
    "df.info()"
   ]
  },
  {
   "attachments": {},
   "cell_type": "markdown",
   "metadata": {},
   "source": [
    "Next I want to split the date into months and years and also times. "
   ]
  }
 ],
 "metadata": {
  "kernelspec": {
   "display_name": "Python 3",
   "language": "python",
   "name": "python3"
  },
  "language_info": {
   "codemirror_mode": {
    "name": "ipython",
    "version": 3
   },
   "file_extension": ".py",
   "mimetype": "text/x-python",
   "name": "python",
   "nbconvert_exporter": "python",
   "pygments_lexer": "ipython3",
   "version": "3.7.6"
  },
  "orig_nbformat": 4
 },
 "nbformat": 4,
 "nbformat_minor": 2
}
